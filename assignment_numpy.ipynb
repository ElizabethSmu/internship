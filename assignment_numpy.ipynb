{
 "cells": [
  {
   "cell_type": "markdown",
   "id": "d3df79dd",
   "metadata": {},
   "source": [
    "## Упражнения по библиотеке Numpy"
   ]
  },
  {
   "cell_type": "code",
   "execution_count": 16,
   "id": "76b9c43b",
   "metadata": {},
   "outputs": [],
   "source": [
    "import numpy as np"
   ]
  },
  {
   "cell_type": "markdown",
   "id": "03727b7c",
   "metadata": {},
   "source": [
    "**1.** Дан случайный массив, поменять знак у элементов, значения которых между 3 и 8"
   ]
  },
  {
   "cell_type": "code",
   "execution_count": 2,
   "id": "b89a7523",
   "metadata": {},
   "outputs": [
    {
     "name": "stdout",
     "output_type": "stream",
     "text": [
      "Исходный массив:\n",
      " [[1 8 7 2 3 5 8]\n",
      " [2 8 2 4 2 9 6]\n",
      " [1 0 6 3 5 2 2]]\n",
      "Измененный массив:\n",
      " [[ 1  8 -7  2  3 -5  8]\n",
      " [ 2  8  2 -4  2  9 -6]\n",
      " [ 1  0 -6  3 -5  2  2]]\n"
     ]
    }
   ],
   "source": [
    "random_array = np.random.randint(0, 10, (3, 7))\n",
    "new_array = np.where((random_array>3) & (random_array<8), -random_array, random_array)\n",
    "\n",
    "print(f\"Исходный массив:\\n {random_array}\")\n",
    "print(f\"Измененный массив:\\n {new_array}\")"
   ]
  },
  {
   "cell_type": "markdown",
   "id": "5fa4abda",
   "metadata": {},
   "source": [
    "**2.** Заменить максимальный элемент случайного массива на 0"
   ]
  },
  {
   "cell_type": "code",
   "execution_count": 3,
   "id": "f2788a6e",
   "metadata": {},
   "outputs": [
    {
     "name": "stdout",
     "output_type": "stream",
     "text": [
      "Исходный массив:\n",
      " [[6 5 0 6 6 4 2]\n",
      " [2 0 4 2 2 6 5]\n",
      " [4 8 4 5 8 8 8]]\n",
      "Измененный массив:\n",
      " [[6 5 0 6 6 4 2]\n",
      " [2 0 4 2 2 6 5]\n",
      " [4 0 4 5 0 0 0]]\n"
     ]
    }
   ],
   "source": [
    "random_array_2 = np.random.randint(0, 10, (3, 7))\n",
    "new_array_2 = np.where((random_array_2 == np.max(random_array_2)), 0, random_array_2)\n",
    "\n",
    "print(f\"Исходный массив:\\n {random_array_2}\")\n",
    "print(f\"Измененный массив:\\n {new_array_2}\")"
   ]
  },
  {
   "cell_type": "markdown",
   "id": "3cac656b",
   "metadata": {},
   "source": [
    "**3.** Построить прямое произведение массивов (все комбинации с каждым элементом). На вход подается двумерный массив"
   ]
  },
  {
   "cell_type": "code",
   "execution_count": 85,
   "id": "128ac4d1",
   "metadata": {},
   "outputs": [
    {
     "name": "stdout",
     "output_type": "stream",
     "text": [
      "Исходный массив:\n",
      " [[5 1]\n",
      " [2 8]\n",
      " [5 1]]\n",
      "Прямое произведение:\n",
      " [[5 2 5]\n",
      " [5 8 5]\n",
      " [1 2 5]\n",
      " [1 8 5]\n",
      " [5 2 1]\n",
      " [5 8 1]\n",
      " [1 2 1]\n",
      " [1 8 1]]\n"
     ]
    }
   ],
   "source": [
    "matrix = np.random.randint(1,9,(3,2))\n",
    "\n",
    "result_gen = np.array(np.meshgrid(*matrix)).T.reshape(-1, matrix.shape[0])\n",
    "\n",
    "print(f\"Исходный массив:\\n {matrix}\")\n",
    "print(f\"Прямое произведение:\\n {result_gen}\")"
   ]
  },
  {
   "cell_type": "markdown",
   "id": "674c9354",
   "metadata": {},
   "source": [
    "**4.** Даны 2 массива A (8x3) и B (2x2). Найти строки в A, которые содержат элементы из каждой строки в B, независимо от порядка элементов в B"
   ]
  },
  {
   "cell_type": "code",
   "execution_count": 51,
   "id": "642281f7",
   "metadata": {},
   "outputs": [
    {
     "name": "stdout",
     "output_type": "stream",
     "text": [
      "Массив А:\n",
      " [[0 1 4]\n",
      " [6 3 0]\n",
      " [5 8 0]\n",
      " [3 2 5]\n",
      " [7 3 5]\n",
      " [8 3 7]\n",
      " [4 7 6]\n",
      " [4 5 0]]\n",
      "Массив B:\n",
      " [[0 6]\n",
      " [7 4]]\n"
     ]
    }
   ],
   "source": [
    "A = np.random.randint(0,9,(8,3))\n",
    "B = np.random.randint(0,9,(2,2))\n",
    "\n",
    "print(f\"Массив А:\\n {A}\")\n",
    "print (f\"Массив B:\\n {B}\")"
   ]
  },
  {
   "cell_type": "code",
   "execution_count": 52,
   "id": "39909a1e",
   "metadata": {},
   "outputs": [
    {
     "data": {
      "text/plain": [
       "array([[6, 3, 0],\n",
       "       [4, 7, 6]])"
      ]
     },
     "execution_count": 52,
     "metadata": {},
     "output_type": "execute_result"
    }
   ],
   "source": [
    "mask = np.array([[np.all(np.isin(B_row, A_row)) for B_row in B]\n",
    "    for A_row in A\n",
    "])\n",
    "\n",
    "A[mask.any(axis=1)]"
   ]
  },
  {
   "cell_type": "markdown",
   "id": "fa46533b",
   "metadata": {},
   "source": [
    "**5.** Дана 10x3 матрица, найти строки из неравных значений (например строка [2,2,3] остается, строка [3,3,3] удаляется)"
   ]
  },
  {
   "cell_type": "code",
   "execution_count": 5,
   "id": "fa545b23",
   "metadata": {},
   "outputs": [
    {
     "name": "stdout",
     "output_type": "stream",
     "text": [
      "Массив со строками из неравных значений:\n",
      "\n",
      " [[3 8 9]\n",
      " [6 3 8]\n",
      " [5 1 3]\n",
      " [9 5 6]\n",
      " [1 9 7]\n",
      " [2 5 6]]\n"
     ]
    }
   ],
   "source": [
    "arr = np.array([[3, 8, 9],\n",
    "                [4, 4, 4],\n",
    "                [6, 3, 8], \n",
    "                [7, 7, 7], \n",
    "                [5, 1, 3], \n",
    "                [9, 5, 6], \n",
    "                [2, 2, 2], \n",
    "                [1, 9, 7],\n",
    "                [9, 9, 9], \n",
    "                [2, 5, 6]])\n",
    "\n",
    "mask = np.all(arr == arr[:, [0]], axis = 1)\n",
    "\n",
    "print(f\"Массив со строками из неравных значений:\\n\\n {arr[~mask]}\")"
   ]
  },
  {
   "cell_type": "markdown",
   "id": "28f0d116",
   "metadata": {},
   "source": [
    "**6.** Дан двумерный массив. Удалить те строки, которые повторяются"
   ]
  },
  {
   "cell_type": "code",
   "execution_count": 34,
   "id": "5dcedeea",
   "metadata": {},
   "outputs": [
    {
     "name": "stdout",
     "output_type": "stream",
     "text": [
      "Массив без дубликатов:\n",
      "\n",
      " [[ 1 13 24 10]\n",
      " [ 2  3  4  6]\n",
      " [12 33 24 60]\n",
      " [14 27 11  6]]\n"
     ]
    }
   ],
   "source": [
    "arr = np.array([[2, 3, 4, 6],\n",
    "                [14, 27, 11, 6],\n",
    "                [2, 3, 4, 6],\n",
    "                [12, 33, 24, 60],\n",
    "                [2, 3, 4, 6],\n",
    "                [12, 33, 24, 60],\n",
    "                [1, 13, 24, 10],\n",
    "                [1, 13, 24, 10]])\n",
    "\n",
    "print(f\"Массив без дубликатов:\\n\\n {np.unique(arr, axis =0)}\")"
   ]
  },
  {
   "cell_type": "markdown",
   "id": "6daa9e37",
   "metadata": {},
   "source": [
    "______\n",
    "______"
   ]
  },
  {
   "cell_type": "markdown",
   "id": "cfbfcaff",
   "metadata": {},
   "source": [
    "Для каждой из следующих задач (1-5) нужно привести 2 реализации – одна без использования numpy (cчитайте, что там, где на входе или выходе должны быть numpy array, будут просто списки), а вторая полностью векторизованная с использованием numpy (без использования питоновских циклов/map/list comprehension).\n",
    "\n",
    "\n",
    "__Замечание 1.__ Можно считать, что все указанные объекты непустые (к примеру, в __задаче 1__ на диагонали матрицы есть ненулевые элементы).\n",
    "\n",
    "__Замечание 2.__ Для большинства задач решение занимает не больше 1-2 строк."
   ]
  },
  {
   "cell_type": "markdown",
   "id": "673cac7f",
   "metadata": {},
   "source": [
    "___"
   ]
  },
  {
   "cell_type": "markdown",
   "id": "ca6f585e",
   "metadata": {},
   "source": [
    "* __Задача 1__: Подсчитать произведение ненулевых элементов на диагонали прямоугольной матрицы.  \n",
    " Например, для X = np.array([[1, 0, 1], [2, 0, 2], [3, 0, 3], [4, 4, 4]]) ответ 3."
   ]
  },
  {
   "cell_type": "code",
   "execution_count": 3,
   "id": "326a19bb",
   "metadata": {},
   "outputs": [
    {
     "name": "stdout",
     "output_type": "stream",
     "text": [
      "Исходный список: \n",
      " [[8, 1, 9], [7, 5, 10], [8, 0, 7], [4, 8, 6], [9, 7, 10]]\n",
      "Произведение ненулевых элементов на главной диагонали: 280\n"
     ]
    }
   ],
   "source": [
    "#вариант 1\n",
    "\n",
    "import random\n",
    "\n",
    "random_list_of_lists = [[random.randint(0, 10) for _ in range(3)] for _ in range(5)]\n",
    "\n",
    "x_prod = 1\n",
    "for i, inner_list in enumerate(random_list_of_lists):\n",
    "    for j, item in enumerate(inner_list):\n",
    "        if i == j and item != 0:\n",
    "            x_prod *= item\n",
    "print(f\"Исходный список: \\n {random_list_of_lists}\")            \n",
    "print(f\"Произведение ненулевых элементов на главной диагонали: {x_prod}\")"
   ]
  },
  {
   "cell_type": "code",
   "execution_count": 98,
   "id": "065862fc",
   "metadata": {},
   "outputs": [
    {
     "name": "stdout",
     "output_type": "stream",
     "text": [
      "Исходная матрица:\n",
      " [[6 8 2]\n",
      " [3 3 0]\n",
      " [3 1 1]\n",
      " [3 2 5]\n",
      " [8 1 7]]\n",
      "Произведение ненулевых элементов на главной диагонали = 18\n"
     ]
    }
   ],
   "source": [
    "# вариант 2\n",
    "\n",
    "X = np.random.randint(0,9,(5,3))\n",
    "\n",
    "diagonal_elements = np.diag(X)\n",
    "diag_prod = np.prod(diagonal_elements[diagonal_elements != 0])\n",
    "\n",
    "print(f\"Исходная матрица:\\n {X}\")\n",
    "print(f\"Произведение ненулевых элементов на главной диагонали = {diag_prod}\")"
   ]
  },
  {
   "cell_type": "markdown",
   "id": "9fc51d41",
   "metadata": {},
   "source": [
    "* __Задача 2__: Даны два вектора x и y. Проверить, задают ли они одно и то же мультимножество.  \n",
    "  Например, для x = np.array([1, 2, 2, 4]), y = np.array([4, 2, 1, 2]) ответ True."
   ]
  },
  {
   "cell_type": "code",
   "execution_count": 18,
   "id": "a809e02f",
   "metadata": {},
   "outputs": [
    {
     "name": "stdout",
     "output_type": "stream",
     "text": [
      "Исходные векторы: \n",
      " [3, 3, 10, 3, 3] \n",
      " [2, 0, 8, 4, 8]\n",
      "False\n"
     ]
    }
   ],
   "source": [
    "#вариант 1\n",
    "\n",
    "from collections import Counter\n",
    "\n",
    "x = [random.randint(0, 10) for _ in range(5)]\n",
    "y = [random.randint(0, 10) for _ in range(5)]\n",
    "\n",
    "print(f\"Исходные векторы: \\n {x} \\n {y}\")\n",
    "\n",
    "print(Counter(x) == Counter(y))    "
   ]
  },
  {
   "cell_type": "code",
   "execution_count": 20,
   "id": "8c61abef",
   "metadata": {},
   "outputs": [
    {
     "name": "stdout",
     "output_type": "stream",
     "text": [
      "Исходные векторы: \n",
      " [8 2 4 3 8] \n",
      " [4 6 8 2 8]\n",
      "False\n"
     ]
    }
   ],
   "source": [
    "#вариает 2\n",
    "\n",
    "x_arr = np.random.randint(0, 10, 5)\n",
    "y_arr = np.random.randint(0, 10, 5)\n",
    "\n",
    "print(f\"Исходные векторы: \\n {x_arr} \\n {y_arr}\")\n",
    "\n",
    "print(np.array_equal(np.bincount(x_arr), np.bincount(y_arr)))"
   ]
  },
  {
   "cell_type": "markdown",
   "id": "b9c185c7",
   "metadata": {},
   "source": [
    "* __Задача 3__: Найти максимальный элемент в векторе x среди элементов, перед которыми стоит ноль. \n",
    " Например, для x = np.array([6, 2, 0, 3, 0, 0, 5, 7, 0]) ответ 5."
   ]
  },
  {
   "cell_type": "code",
   "execution_count": 119,
   "id": "b57df008",
   "metadata": {},
   "outputs": [
    {
     "name": "stdout",
     "output_type": "stream",
     "text": [
      "Исходный вектор: [7, 10, 0, 0, 10, 1, 0, 5, 8, 0, 7, 6]\n",
      "Искомое максимальное значение: 10\n"
     ]
    }
   ],
   "source": [
    "#вариант 1\n",
    "x_3 = [random.randint(0, 10) for _ in range(12)]\n",
    "\n",
    "max_value = max((x_3[i] for i in range(1, len(x_3)) if x_3[i-1] == 0), default=None)\n",
    "\n",
    "print(f\"Исходный вектор: {x_3}\")\n",
    "print(f\"Искомое максимальное значение: {max_value}\")"
   ]
  },
  {
   "cell_type": "code",
   "execution_count": 120,
   "id": "88fd7613",
   "metadata": {},
   "outputs": [
    {
     "name": "stdout",
     "output_type": "stream",
     "text": [
      "Исходный вектор: [8 1 4 9 2 7 0 4 7 8 4 6]\n",
      "Искомое максимальное значение: 4\n"
     ]
    }
   ],
   "source": [
    "#вариант 2\n",
    "\n",
    "x_arr_3 = np.random.randint(0, 10, 12)\n",
    "\n",
    "x_arr_3_new = np.roll(x_arr_3, 1)\n",
    "elements_after_zero = x_arr_3[x_arr_3_new == 0]\n",
    "max_value = elements_after_zero.max() if elements_after_zero.size > 0 else None\n",
    "\n",
    "print(f\"Исходный вектор: {x_arr_3}\")\n",
    "print(f\"Искомое максимальное значение: {max_value}\")"
   ]
  },
  {
   "cell_type": "markdown",
   "id": "480be4ce",
   "metadata": {},
   "source": [
    "* __Задача 4__: Реализовать кодирование длин серий (Run-length encoding). Для некоторого вектора x необходимо вернуть кортеж из двух векторов одинаковой длины. Первый содержит числа, а второй - сколько раз их нужно повторить.  \n",
    " Например, для x = np.array([2, 2, 2, 3, 3, 3, 5]) ответ (np.array([2, 3, 5]), np.array([3, 3, 1]))."
   ]
  },
  {
   "cell_type": "code",
   "execution_count": 38,
   "id": "b24e4c1f",
   "metadata": {},
   "outputs": [
    {
     "name": "stdout",
     "output_type": "stream",
     "text": [
      "Исходный вектор: [3, 4, 8, 5, 3, 0, 9, 5, 9, 8, 6, 9, 3, 2, 8]\n",
      "Результат Run-length encoding: ([0, 2, 3, 4, 5, 6, 8, 9], [1, 1, 3, 1, 2, 1, 3, 3])\n"
     ]
    }
   ],
   "source": [
    "#вариант 1\n",
    "\n",
    "x_4 = [random.randint(0, 10) for _ in range(15)]\n",
    "unique_values = list(set(x_4))\n",
    "\n",
    "counts = [x_4.count(n) for n in unique_values]\n",
    "\n",
    "print(f\"Исходный вектор: {x_4}\")\n",
    "print(f\"Результат Run-length encoding: {(unique_values, counts)}\")"
   ]
  },
  {
   "cell_type": "code",
   "execution_count": 39,
   "id": "57905d6d",
   "metadata": {},
   "outputs": [
    {
     "name": "stdout",
     "output_type": "stream",
     "text": [
      "Исходный вектор: [9 0 9 2 9 8 0 2 5 8 6 7 5 7 8]\n",
      "Результат Run-length encoding: (array([0, 2, 5, 6, 7, 8, 9]), array([2, 2, 2, 1, 2, 3, 3], dtype=int64))\n"
     ]
    }
   ],
   "source": [
    "#вариант 2\n",
    "\n",
    "x_arr_4 = np.random.randint(0, 10, 15)\n",
    "u_values, elem_counts = np.unique(x_arr_4, return_counts=True)\n",
    "\n",
    "print(f\"Исходный вектор: {x_arr_4}\")\n",
    "print(f\"Результат Run-length encoding: {(u_values, elem_counts)}\")"
   ]
  },
  {
   "cell_type": "markdown",
   "id": "077532ec",
   "metadata": {},
   "source": [
    "* __Задача 5__: Даны две выборки объектов - X и Y. Вычислить матрицу евклидовых расстояний между объектами. Сравните с функцией scipy.spatial.distance.cdist по скорости работы."
   ]
  },
  {
   "cell_type": "code",
   "execution_count": 105,
   "id": "d1778770",
   "metadata": {},
   "outputs": [],
   "source": [
    "import timeit\n",
    "import math\n",
    "from scipy.spatial.distance import cdist"
   ]
  },
  {
   "cell_type": "code",
   "execution_count": 106,
   "id": "1e807797",
   "metadata": {},
   "outputs": [
    {
     "name": "stdout",
     "output_type": "stream",
     "text": [
      "Матрица евклидовых расстояний между объектами:\n",
      " [[8.06225774829855, 5.0], [4.47213595499958, 0.0], [2.23606797749979, 3.0]]\n",
      "Скорость работы: 0.001519199984613806\n"
     ]
    }
   ],
   "source": [
    "#вариант 1\n",
    "\n",
    "X_5 = [[random.randint(0, 10) for _ in range(2)] for _ in range(3)]\n",
    "Y_5 = [[random.randint(0, 10) for _ in range(2)] for _ in range(2)]\n",
    "\n",
    "start_time = timeit.timeit()\n",
    "\n",
    "с = []\n",
    "\n",
    "for x_5 in X_5:\n",
    "    row = [math.sqrt(sum((xi - yi) ** 2 for xi, yi in zip(x_5, y_5))) for y_5 in Y_5]\n",
    "    distance_matrix.append(row)\n",
    "    \n",
    "end_time = timeit.timeit()\n",
    "execution_time_var_1 = start_time-end_time\n",
    "\n",
    "    \n",
    "print(f\"Матрица евклидовых расстояний между объектами:\\n {distance_matrix}\")\n",
    "print(f\"Скорость работы: {execution_time_var_1}\")"
   ]
  },
  {
   "cell_type": "code",
   "execution_count": 113,
   "id": "df981087",
   "metadata": {},
   "outputs": [
    {
     "name": "stdout",
     "output_type": "stream",
     "text": [
      "Матрица евклидовых расстояний между объектами:\n",
      " [[3.         5.38516481]\n",
      " [7.61577311 5.09901951]\n",
      " [8.06225775 6.08276253]]\n",
      "Скорость работы: 0.00031689999741502106\n",
      "Скорость работы cdist: 0.005135700019309297\n"
     ]
    }
   ],
   "source": [
    "#вариант 2\n",
    "\n",
    "X_arr_5 = np.random.randint(0, 10, (3, 2))\n",
    "Y_arr_5 = np.random.randint(0, 10, (2,2))\n",
    "\n",
    "np.sqrt(np.sum((X_arr_5[:, np.newaxis] - Y_arr_5) ** 2, axis=-1))\n",
    "execution_time_var_2 = timeit.timeit('np.sqrt(np.sum((X_arr_5[:, np.newaxis] - Y_arr_5) ** 2, axis=-1))',globals=globals(), number=10)\n",
    "\n",
    "print(f\"Матрица евклидовых расстояний между объектами:\\n {np.sqrt(np.sum((X_arr_5[:, np.newaxis] - Y_arr_5) ** 2, axis=-1))}\")\n",
    "print(f\"Скорость работы: {execution_time_var_2}\")\n",
    "print(f\"Скорость работы cdist: {timeit.timeit('cdist(X_arr_5, Y_arr_5)',globals=globals(), number=10)}\")"
   ]
  },
  {
   "cell_type": "markdown",
   "id": "046253bb",
   "metadata": {},
   "source": [
    "Вычисление матрицы евклидовых расстояний между объектами с использованием numpy работает быстрее, чем функция scipy.spatial.distance.cdist"
   ]
  },
  {
   "cell_type": "markdown",
   "id": "973e8064",
   "metadata": {},
   "source": [
    "_______\n",
    "________"
   ]
  },
  {
   "cell_type": "markdown",
   "id": "1104acb7",
   "metadata": {},
   "source": [
    "* #### __Задача 6__: CrunchieMunchies __*__\n",
    "\n",
    "Вы работаете в отделе маркетинга пищевой компании MyCrunch, которая разрабатывает новый вид вкусных, полезных злаков под названием **CrunchieMunchies**.\n",
    "\n",
    "Вы хотите продемонстрировать потребителям, насколько полезны ваши хлопья по сравнению с другими ведущими брендами, поэтому вы собрали данные о питании нескольких разных конкурентов.\n",
    "\n",
    "Ваша задача - использовать вычисления Numpy для анализа этих данных и доказать, что ваши **СrunchieMunchies** - самый здоровый выбор для потребителей.\n"
   ]
  },
  {
   "cell_type": "code",
   "execution_count": 77,
   "id": "10a77f8d",
   "metadata": {},
   "outputs": [],
   "source": [
    "import numpy as np"
   ]
  },
  {
   "cell_type": "markdown",
   "id": "ab87cb03",
   "metadata": {},
   "source": [
    "1. Просмотрите файл cereal.csv. Этот файл содержит количества калорий для различных марок хлопьев. Загрузите данные из файла и сохраните их как calorie_stats."
   ]
  },
  {
   "cell_type": "code",
   "execution_count": 40,
   "id": "9681ebf2",
   "metadata": {},
   "outputs": [
    {
     "data": {
      "text/plain": [
       "array([ 70., 120.,  70.,  50., 110., 110., 110., 130.,  90.,  90., 120.,\n",
       "       110., 120., 110., 110., 110., 100., 110., 110., 110., 100., 110.,\n",
       "       100., 100., 110., 110., 100., 120., 120., 110., 100., 110., 100.,\n",
       "       110., 120., 120., 110., 110., 110., 140., 110., 100., 110., 100.,\n",
       "       150., 150., 160., 100., 120., 140.,  90., 130., 120., 100.,  50.,\n",
       "        50., 100., 100., 120., 100.,  90., 110., 110.,  80.,  90.,  90.,\n",
       "       110., 110.,  90., 110., 140., 100., 110., 110., 100., 100., 110.])"
      ]
     },
     "execution_count": 40,
     "metadata": {},
     "output_type": "execute_result"
    }
   ],
   "source": [
    "calorie_stats = np.loadtxt(\"./data/cereal.csv\", delimiter=\",\")\n",
    "calorie_stats"
   ]
  },
  {
   "cell_type": "markdown",
   "id": "139cfbd8",
   "metadata": {},
   "source": [
    "2. В одной порции CrunchieMunchies содержится 60 калорий. Насколько выше среднее количество калорий у ваших конкурентов?\n",
    "\n",
    "Сохраните ответ в переменной average_calories и распечатайте переменную в терминале"
   ]
  },
  {
   "cell_type": "code",
   "execution_count": 116,
   "id": "7036d240",
   "metadata": {},
   "outputs": [
    {
     "name": "stdout",
     "output_type": "stream",
     "text": [
      "Среднее количество калорий в хлопьях у конкурентов 106.88, что выше на 46.88, чем CrunchieMunchies \n"
     ]
    }
   ],
   "source": [
    "average_calories = np.mean(calorie_stats)\n",
    "print(f\"Среднее количество калорий в хлопьях у конкурентов {average_calories:.2f}, что выше на {average_calories-60:.2f}, чем CrunchieMunchies \")"
   ]
  },
  {
   "cell_type": "markdown",
   "id": "b2ddb4cd",
   "metadata": {},
   "source": [
    "3. Корректно ли среднее количество калорий отражает распределение набора данных? Давайте отсортируем данные и посмотрим.\n",
    "\n",
    "Отсортируйте данные и сохраните результат в переменной calorie_stats_sorted. Распечатайте отсортированную информацию"
   ]
  },
  {
   "cell_type": "code",
   "execution_count": 45,
   "id": "46eeb4ed",
   "metadata": {},
   "outputs": [
    {
     "name": "stdout",
     "output_type": "stream",
     "text": [
      "Отсортированные данные:\n",
      " [ 50.  50.  50.  70.  70.  80.  90.  90.  90.  90.  90.  90.  90. 100.\n",
      " 100. 100. 100. 100. 100. 100. 100. 100. 100. 100. 100. 100. 100. 100.\n",
      " 100. 100. 110. 110. 110. 110. 110. 110. 110. 110. 110. 110. 110. 110.\n",
      " 110. 110. 110. 110. 110. 110. 110. 110. 110. 110. 110. 110. 110. 110.\n",
      " 110. 110. 110. 120. 120. 120. 120. 120. 120. 120. 120. 120. 120. 130.\n",
      " 130. 140. 140. 140. 150. 150. 160.]\n"
     ]
    }
   ],
   "source": [
    "calorie_stats_sorted = np.sort(calorie_stats)\n",
    "print(f\"Отсортированные данные:\\n {calorie_stats_sorted}\")"
   ]
  },
  {
   "cell_type": "markdown",
   "id": "4dc74116",
   "metadata": {},
   "source": [
    "4. Похоже, что большинство значений выше среднего. Давайте посмотрим, является ли медиана наиболее корректным показателем набора данных.\n",
    "\n",
    "Вычислите медиану набора данных и сохраните свой ответ в median_calories. Выведите медиану, чтобы вы могли видеть, как она сравнивается со средним значением."
   ]
  },
  {
   "cell_type": "code",
   "execution_count": 48,
   "id": "b56627c3",
   "metadata": {},
   "outputs": [
    {
     "name": "stdout",
     "output_type": "stream",
     "text": [
      "Медиана: 110.0\n"
     ]
    }
   ],
   "source": [
    "median_calories = np.median(calorie_stats)\n",
    "print(f\"Медиана: {median_calories}\")"
   ]
  },
  {
   "cell_type": "markdown",
   "id": "a63ab72f",
   "metadata": {},
   "source": [
    "5. В то время как медиана показывает, что по крайней мере половина наших значений составляет более 100 калорий, было бы более впечатляюще показать, что значительная часть конкурентов имеет более высокое количество калорий, чем CrunchieMunchies.\n",
    "\n",
    "Рассчитайте различные процентили и распечатайте их, пока не найдете наименьший процентиль, превышающий 60 калорий. Сохраните это значение в переменной nth_percentile."
   ]
  },
  {
   "cell_type": "code",
   "execution_count": 118,
   "id": "fe80ce03",
   "metadata": {},
   "outputs": [
    {
     "name": "stdout",
     "output_type": "stream",
     "text": [
      "0%-й процентиль: 50.0\n",
      "3%-й процентиль: 55.599999999999994\n",
      "4%-й процентиль: 70.0\n",
      "5%-й процентиль: 70.0\n",
      "7%-й процентиль: 83.2\n",
      "8%-й процентиль: 90.0\n",
      "9%-й процентиль: 90.0\n",
      "10%-й процентиль: 90.0\n",
      "25%-й процентиль: 100.0\n",
      "50%-й процентиль: 110.0\n",
      "75%-й процентиль: 110.0\n",
      "90%-й процентиль: 124.00000000000006\n",
      "95%-й процентиль: 140.0\n",
      "99%-й процентиль: 152.39999999999995\n",
      "\n",
      "Наименьший процентиль, превышающий 60 калорий: 4%-й процентиль\n"
     ]
    }
   ],
   "source": [
    "percentile = [0,3, 4, 5, 7, 8, 9, 10, 25, 50, 75, 90, 95, 99]\n",
    "nth_percentile_search = np.percentile(calorie_stats, percentile)\n",
    "\n",
    "nth_percentile = None\n",
    "\n",
    "for p, value in zip(percentile, nth_percentile_search):\n",
    "    if value > 60 and nth_percentile is None:\n",
    "        nth_percentile = p   \n",
    "    print(f\"{p}%-й процентиль: {value}\")\n",
    "    \n",
    "print(f\"\\nНаименьший процентиль, превышающий 60 калорий: {nth_percentile}%-й процентиль\")"
   ]
  },
  {
   "cell_type": "markdown",
   "id": "a2a3c5aa",
   "metadata": {},
   "source": [
    "6. Хотя процентиль показывает нам, что у большинства конкурентов количество калорий намного выше, это неудобная концепция для использования в маркетинговых материалах.\n",
    "\n",
    "Вместо этого давайте подсчитаем процент хлопьев, в которых содержится более 60 калорий на порцию. Сохраните свой ответ в переменной more_calories и распечатайте его"
   ]
  },
  {
   "cell_type": "code",
   "execution_count": 84,
   "id": "ade0f6ea",
   "metadata": {},
   "outputs": [
    {
     "name": "stdout",
     "output_type": "stream",
     "text": [
      "Процент хлопьев, содержащих более 60 калорий: 96.10\n"
     ]
    }
   ],
   "source": [
    "more_calories = len(calorie_stats[calorie_stats > 60]) / len(calorie_stats) * 100\n",
    "print(f\"Процент хлопьев, содержащих более 60 калорий: {more_calories:.2f}\")"
   ]
  },
  {
   "cell_type": "markdown",
   "id": "1735d65b",
   "metadata": {},
   "source": [
    "7. Это действительно высокий процент. Это будет очень полезно, когда мы будем продвигать CrunchieMunchies. Но один вопрос заключается в том, насколько велики различия в наборе данных? Можем ли мы сделать обобщение, что в большинстве злаков содержится около 100 калорий или разброс еще больше?\n",
    "\n",
    "Рассчитайте величину отклонения, найдя стандартное отклонение, Сохраните свой ответ в calorie_std и распечатайте на терминале. Как мы можем включить эту ценность в наш анализ?"
   ]
  },
  {
   "cell_type": "code",
   "execution_count": 86,
   "id": "85c8df1f",
   "metadata": {},
   "outputs": [
    {
     "name": "stdout",
     "output_type": "stream",
     "text": [
      "Стандартное отклонение: 19.35718533390827\n"
     ]
    }
   ],
   "source": [
    "calorie_std = np.std(calorie_stats)\n",
    "print(f\"Стандартное отклонение: {calorie_std}\")"
   ]
  },
  {
   "cell_type": "markdown",
   "id": "037455c5",
   "metadata": {},
   "source": [
    "8. Напишите короткий абзац, в котором кратко изложите свои выводы и то, как, по вашему мнению, эти данные могут быть использованы в интересах Mycrunch при маркетинге CrunchieMunchies."
   ]
  },
  {
   "cell_type": "markdown",
   "id": "c2e0874d",
   "metadata": {},
   "source": [
    "Калорийность хлопьев CrunchieMunchies в среднеем ниже на 46.88 калорий, чем у конкурентов. Но сравнение со средним значением нельзя считать корректным, так как медианное значение калорийности хлопьев конкурентов первышает среднее, а значит отличие  CrunchieMunchies еще больше (50 калорий). Также  96% исследованных производителей выпускают хлопья с калорийностью выше, чем CrunchieMunchies, т.е. наш продукт входит в 4% самых низкокалорийных, представленных на рынке."
   ]
  },
  {
   "cell_type": "code",
   "execution_count": null,
   "id": "0e03d90b",
   "metadata": {},
   "outputs": [],
   "source": []
  }
 ],
 "metadata": {
  "kernelspec": {
   "display_name": "Python 3 (ipykernel)",
   "language": "python",
   "name": "python3"
  },
  "language_info": {
   "codemirror_mode": {
    "name": "ipython",
    "version": 3
   },
   "file_extension": ".py",
   "mimetype": "text/x-python",
   "name": "python",
   "nbconvert_exporter": "python",
   "pygments_lexer": "ipython3",
   "version": "3.10.13"
  }
 },
 "nbformat": 4,
 "nbformat_minor": 5
}
